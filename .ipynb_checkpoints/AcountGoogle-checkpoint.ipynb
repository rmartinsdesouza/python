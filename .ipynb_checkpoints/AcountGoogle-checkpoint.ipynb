{
 "cells": [
  {
   "cell_type": "markdown",
   "id": "0f0f674e",
   "metadata": {},
   "source": [
    "# Acount Google - SENAI MT"
   ]
  },
  {
   "cell_type": "code",
   "execution_count": 28,
   "id": "db4f717d",
   "metadata": {},
   "outputs": [
    {
     "name": "stdout",
     "output_type": "stream",
     "text": [
      "Requirement already satisfied: cx_Oracle in c:\\users\\rodrigo.souza\\anaconda3\\lib\\site-packages (8.3.0)\n"
     ]
    }
   ],
   "source": [
    "#Install Oracle library\n",
    "#!pip install cx_Oracle"
   ]
  },
  {
   "cell_type": "code",
   "execution_count": 1,
   "id": "2bd6bb4f",
   "metadata": {},
   "outputs": [],
   "source": [
    "import cx_Oracle"
   ]
  },
  {
   "cell_type": "code",
   "execution_count": 2,
   "id": "e2e30a18",
   "metadata": {},
   "outputs": [],
   "source": [
    "userpwd = \"rm@devhml\"\n",
    "conn = cx_Oracle.connect(user=\"rm\", password=userpwd,\n",
    "                               dsn=\"bdsge1\",\n",
    "                               encoding=\"UTF-8\")"
   ]
  },
  {
   "cell_type": "code",
   "execution_count": 5,
   "id": "2111c5a5",
   "metadata": {},
   "outputs": [
    {
     "name": "stdout",
     "output_type": "stream",
     "text": [
      "(3, 1, 'SENAI CUIABÁ - HML', '03.819.150/0002-09', 'SENAI CUIABÁ - HML', None, '3612-1702', None, 'mozara.guerreiro@senaimt.ind.br', 'XV DE NOVEMBRO', '303', 'S/N', 'PORTO', 'Cuiabá', 'MT', 'Brasil', '78020-300', 'MOZARA ZASSO SPENCER GUERREIRO', None, 6, 1, None, 3, '03403', None, 0, None, None, None, None, None, None, None, None, 1, None, '5140879', 'mestre', datetime.datetime(2015, 12, 14, 15, 24, 55), 'MAURO.SILVA', datetime.datetime(2022, 10, 31, 11, 5, 45), '065', None, None, None, None, None, None, 1)\n",
      "(2, 1, 'SESI - DR - HML', '03.819.157/0001-31', 'SESI - DR - HML', None, '3611-1570', None, None, 'HISTORIADOR RUBENS DE MENDONCA', '4193', None, 'CENTRO POLITICO ADMINISTRATIVO', 'Cuiabá', 'MT', 'Brasil', '78049 940', None, None, 6, 1, None, 2358, '03403', None, 0, None, None, None, None, None, None, None, None, 1, None, '1117245', 'mestre', datetime.datetime(2013, 3, 13, 14, 45, 54), 'MAURO.SILVA', datetime.datetime(2022, 10, 31, 10, 55, 22), '65', None, None, None, None, None, None, 1)\n",
      "(3, 2, 'SENAI DISTRITO INDUSTRIAL - HML', '03.819.150/0012-72', 'SENAI DISTRITO INDUSTRIAL - HML', None, '3611-9526', None, 'dayanni.santos@senaimt.ind.br', 'A', '956', None, 'DISTRITO INDUSTRIAL', 'Cuiabá', 'MT', 'Brasil', '78098-270', 'DAYANNI PAULA R. DOS SANTOS', None, 6, 1, None, 4, '03403', None, 0, None, None, None, None, None, None, None, None, 1, None, '5140885', 'guilherme.castro', datetime.datetime(2016, 8, 25, 16, 45, 25), 'MAURO.SILVA', datetime.datetime(2022, 10, 31, 11, 5, 16), '065', None, None, None, None, None, None, 1)\n",
      "(3, 4, 'SENAI RONDONÓPOLIS - HML', '03.819.150/0003-81', 'SENAI RONDONÓPOLIS - HML', None, '2101-5050', None, 'ana.bononi@senaimt.ind.br', 'ADEMIR DE JESUS RIBEIRO', '3147', None, 'PQ. RES. JARDIM UNIVERSITÁRIO', 'Rondonópolis', 'MT', 'Brasil', '78750-340', 'Deisi de Oliveira Rhoden', None, 1, 1, None, 6, '07602', None, 0, None, None, None, None, None, None, None, None, 1, None, '5140884', 'guilherme.castro', datetime.datetime(2016, 8, 25, 16, 52, 33), 'MAURO.SILVA', datetime.datetime(2022, 10, 31, 11, 5, 42), '066', None, None, None, None, None, None, 1)\n",
      "(3, 5, 'SENAI BARRA DO GARÇAS - HML', '03.819.150/0005-43', 'SENAI BARRA DO GARÇAS - HML', None, '3401-1808', None, 'ana.bononi@senaimt.ind.br', 'SENADOR VALDON VARJÃO', 'S/N', 'KM 04', 'SETOR INDUSTRIAL', 'Barra do Garças', 'MT', 'Brasil', '786000-00', 'DEISE DE OLIVEIRA RHODEN', None, 6, 1, None, 7, '01803', None, 0, None, None, None, None, None, None, None, None, 1, None, '5140874', 'guilherme.castro', datetime.datetime(2016, 8, 25, 16, 53, 7), 'MAURO.SILVA', datetime.datetime(2022, 10, 31, 11, 5, 31), '066', None, None, None, None, None, None, 1)\n",
      "(3, 6, 'SENAI JUÍNA - HML', '03.819.150/0010-00', 'SENAI JUÍNA - HML', None, '3566-1263', None, 'bruno.cavalcante@sesisenaimt.ind.br', 'DAS DÁLIAS', '300', 'MODULO 04', 'MÓDULO 04', 'Juína', 'MT', 'Brasil', '78320-000', 'BRUNO FERREIRA CAVALCANTE', None, 1, 1, None, 4600, '05150', None, 0, None, None, None, None, None, None, None, None, 1, None, '5169244', 'guilherme.castro', datetime.datetime(2016, 8, 25, 16, 57, 25), 'MAURO.SILVA', datetime.datetime(2022, 10, 31, 11, 5, 20), '066', None, None, None, None, None, None, 1)\n",
      "(3, 7, 'SENAI CÁCERES - HML', '03.819.150/0008-96', 'SENAI CÁCERES - HML', None, '3223-4033', None, 'dayanni.santos@senaimt.com.br', 'CORONEL PONCE', '637', None, 'CENTRO', 'Cáceres', 'MT', 'Brasil', '78200-000', 'DAYANNI PAULA ROSSETO DOS SANTOS', None, 1, 1, None, 8, '02504', None, 0, None, None, None, None, None, None, None, None, 1, None, '5140878', 'guilherme.castro', datetime.datetime(2016, 8, 25, 16, 58, 21), 'MAURO.SILVA', datetime.datetime(2022, 10, 31, 11, 5, 24), '065', None, None, None, None, None, None, 1)\n",
      "(3, 9, 'SENAI NOVA MUTUM - HML', '03.819.150/0016-04', 'SENAI NOVA MUTUM - HML', None, '2101-0180', None, 'adriele.muniz@senaimt.ind.br', 'DAS SERIEMAS', '17', 'QUADRA C', 'COLINA DOIS', 'Nova Mutum', 'MT', 'Brasil', '78450-000', 'ADRIELE MUNIZ', None, 6, 1, None, 10, '06224', None, 0, None, None, None, None, None, None, None, None, 1, None, '5183744', 'guilherme.castro', datetime.datetime(2016, 8, 25, 16, 59, 30), 'MAURO.SILVA', datetime.datetime(2022, 10, 31, 11, 5, 8), '065', None, None, None, None, None, None, 1)\n",
      "(3, 8, 'SENAI SINOP - HML', '03.819.150/0007-05', 'SENAI SINOP - HML', None, '3531-2062', None, 'bruno.cavalcante@sesisenaimt.ind.br', 'DOS JACARANDÁS', '3100', None, 'CENTRO', 'Sinop', 'MT', 'Brasil', '78557-448', 'BRUNO FERREIRA CAVALCANTE', None, 6, 1, None, 9, '07909', None, 0, None, None, None, None, None, None, None, None, 1, None, '5140882', 'guilherme.castro', datetime.datetime(2016, 8, 25, 16, 58, 53), 'MAURO.SILVA', datetime.datetime(2022, 10, 31, 11, 5, 27), '066', None, None, None, None, None, None, 1)\n",
      "(3, 3, 'SENAI VÁRZEA GRANDE - HML', '03.819.150/0004-62', 'SENAI VÁRZEA GRANDE - HML', None, '3688-1205', None, 'vivaldo.filho@senaimt.ind.br', 'DOM ORLANDO CHAVES', '1536', None, 'CRISTO REI', 'Várzea Grande', 'MT', 'Brasil', '78115-300', 'VIVALDO MATOS FILHO', None, 6, 1, None, 5, '08402', None, 0, None, None, None, None, None, None, None, None, 1, None, '5140875', 'guilherme.castro', datetime.datetime(2016, 8, 25, 16, 51, 43), 'MAURO.SILVA', datetime.datetime(2022, 10, 31, 11, 5, 39), '065', None, None, None, None, None, None, 1)\n",
      "(3, 10, 'FATEC SENAI MT - HML', '03.819.150/0017-87', 'Faculdade de Tecnologia SENAI Mato Grosso - HML', None, '3612-1757', None, 'valdir.junior@fatecsenaimt.ind.br', 'XV DE NOVEMBRO', '303', None, 'PORTO', 'Cuiabá', 'MT', 'Brasil', '78020-300', 'VALDIR PEREIRA DE SOUZA JUNIOR', None, 6, 1, None, 14, '03403', None, 0, None, None, None, None, None, None, None, None, 1, None, '5277235', 'ERICA.FIGUEIREDO', datetime.datetime(2017, 3, 2, 8, 26, 41), 'MAURO.SILVA', datetime.datetime(2022, 10, 31, 11, 5, 4), '065', None, None, None, None, None, None, 1)\n",
      "(3, 11, 'SENAI SORRISO - HML', '03.819.150/0019-49', 'SENAI SORRISO - HML', None, '3611-1526', None, 'viviane.pozzolo@fatecsenaimt.ind.br', 'SÃO CRISTOVÃO', '8', 'Lote 8 2 - A - 2 LOTE 08-1-B', 'CENTRO', 'Sorriso', 'MT', 'Brasil', '78890-000', 'VIVIANE KELLY POZZOLO', None, 1, 1, None, 4601, '07925', None, 0, None, None, None, None, None, None, None, None, 1, None, '5279889', 'ERICA.FIGUEIREDO', datetime.datetime(2017, 5, 31, 15, 34, 5), 'MAURO.SILVA', datetime.datetime(2022, 10, 31, 11, 4, 56), '065', None, None, None, None, None, None, 1)\n",
      "(3, 12, 'SENAI DEPARTAMENTO REGIONAL DE MATO GROSSO - HML', '03.819.150/0001-10', 'SERVIÇO NACIONAL DE APRENDIZAGEM INDUSTRIAL DO ESTADO DE MATO GROSSO - HML', None, '3611-1526', None, 'lelia.brun@senaimt.ind.br', 'HISTORIADOR RUBENS DE MENDONCA', '4193', None, 'BOSQUE DA SAUDE', 'Cuiabá', 'MT', 'Brasil', '78050-000', 'LELIA ROCHA ABADIO BRUN', None, 6, 1, None, None, '03403', None, 0, None, None, None, None, None, None, None, None, 1, None, '1117272', 'KLEBERSON.FRANCA', datetime.datetime(2017, 7, 4, 14, 54, 2), 'MAURO.SILVA', datetime.datetime(2022, 10, 31, 11, 6, 10), '065', None, None, None, None, None, None, 1)\n",
      "(3, 13, 'INSTITUTO SENAI DE TECNOLOGIA DE MATO GROSSO - HML', '03.819.150/0018-68', 'INSTITUTO SENAI DE TECNOLOGIA DE MATO GROSSO - HML', None, '3611-1625', None, 'anderson.domingos@senaimt.ind.br', 'PRESIDENTE GETULIO VARGAS', '46', None, 'CENTRO NORTE', 'Cuiabá', 'MT', 'Brasil', '78005-370', 'ANDERSON KURUNCZI DOMINGOS', None, 6, 1, None, None, '03403', None, 0, None, None, None, None, None, None, None, None, 1, None, '5277234', 'KLEBERSON.FRANCA', datetime.datetime(2017, 7, 4, 15, 6, 47), 'MAURO.SILVA', datetime.datetime(2022, 10, 31, 11, 5, 1), '065', None, None, None, None, None, None, 1)\n",
      "(3, 14, 'SENAI BARRA DO BUGRES - HML', '03.819.150/0015-15', 'SENAI BARRA DO BUGRES - HML', None, '3688-1205', None, 'helton.reis@senaimt.ind.br', 'CARMEM SILVA PARADA', 'S/N', None, 'CENTRO', 'Barra do Bugres', 'MT', 'Brasil', '78390-000', 'Helton Luiz Reis', None, 1, 1, None, 4602, '01704', None, 0, None, None, None, None, None, None, None, None, 1, None, '5298483', 'guilherme.castro', datetime.datetime(2018, 1, 8, 14, 36), 'MAURO.SILVA', datetime.datetime(2022, 10, 31, 11, 5, 13), '065', None, None, None, None, None, None, 1)\n",
      "(3, 15, 'SENAI LUCAS DO RIO VERDE - HML', '03.819.150/0021-63', 'SENAI LUCAS DO RIO VERDE - HML', None, '3548-8600', None, 'rafaela.holz@senaimt.ind.br', 'UMUARAMA', '675', None, 'MENINO DE DEUS', 'Lucas do Rio Verde', 'MT', 'Brasil', '78455-000', 'RAFAELA HOLZ', None, 1, 1, None, 4603, '05259', None, 0, None, None, None, None, None, None, None, None, 1, None, '5319243', 'rodrigo.souza', datetime.datetime(2019, 8, 26, 17, 17, 53), 'MAURO.SILVA', datetime.datetime(2022, 10, 31, 11, 4, 49), '065', None, None, None, None, None, None, 1)\n",
      "(3, 16, 'SENAI ALTA FLORESTA - HML', '03.819.150/0020-82', 'SENAI ALTA FLORESTA - HML', None, '3531-2062', None, 'edina.scheid@sesimt.com.br', 'PERIMETRAL ROGÉRIO SILVA', 'S/N', 'LOTE CAMELIA 1', 'CENTRO', 'Alta Floresta', 'MT', 'Brasil', '78580000', 'ÉDINA CRISTINA TONETT SCHEID', None, 6, 1, None, 4604, '00250', None, 0, None, None, None, None, None, None, None, None, 1, None, '5322687', 'vitor.silva', datetime.datetime(2020, 1, 24, 8, 7, 13), 'MAURO.SILVA', datetime.datetime(2022, 10, 31, 11, 4, 53), '065', None, None, None, None, None, None, 1)\n",
      "(2, 5, 'SESI ESCOLA VÁRZEA GRANDE - HML', '03.819.157/0005-65', 'SESI ESCOLA VÁRZEA GRANDE - HML', None, '3685-2077', None, 'gestaosecretaria.vg@sesimt.ind.br', 'DOM ORLANDO CHAVES', '1086', None, 'MANGA', 'Várzea Grande', 'MT', 'Brasil', '78115-800', None, None, 6, 1, None, 2360, '08402', None, 0, None, None, None, None, None, None, None, None, 1, None, '1195104', 'mestre', datetime.datetime(2013, 3, 1, 10, 23, 17), 'MAURO.SILVA', datetime.datetime(2022, 10, 31, 10, 55, 18), '65', None, None, None, None, None, None, 1)\n",
      "(2, 6, 'SESI - SINOP - HML', '03.819.157/0006-46', 'SESI - SINOP - HML', None, '3531-3611', None, 'edina.scheid@sesimt.ind.br', 'DOS JACARANDÁS', '3100', None, 'CENTRO', 'Sinop', 'MT', 'Brasil', '78557-448', 'Édina Cristina Tonett Scheid', None, 6, 1, None, 3730, '07909', None, 0, None, None, None, None, None, None, None, None, 1, None, '1117756', 'mestre', datetime.datetime(2013, 3, 13, 14, 47, 47), 'MAURO.SILVA', datetime.datetime(2022, 10, 31, 10, 55, 14), '65', None, None, None, None, None, None, 1)\n",
      "(2, 8, 'SESI - CACERES - HML', '03.819.157/0008-08', 'SESI CACERES - HML', None, '3223-4033', None, 'rosinei.ferreira@senaimt.ind.br', 'Coronel Ponce', '637', None, 'CENTRO', 'Cáceres', 'MT', 'Brasil', None, 'Rosinei Silva Ferreira', None, 1, 1, None, 3731, '02504', None, 0, None, None, None, None, None, None, None, None, 1, None, '1117757', 'mestre', datetime.datetime(2013, 3, 13, 14, 48, 19), 'MAURO.SILVA', datetime.datetime(2022, 10, 31, 10, 55, 10), '65', None, None, None, None, None, None, 1)\n",
      "(2, 9, 'SESI - RONDONOPOLIS - HML', '03.819.157/0009-99', 'SESI - RONDONOPOLIS - HML', None, '3302-0020', None, 'sidiney.rossa@sesimt.com.br', 'PRESIDENTE MEDICI', '4391', None, 'VILA BIRIGUI', 'Rondonópolis', 'MT', 'Brasil', '78705-000', 'Sidiney Rossa', None, 6, 1, None, 3732, '07602', None, 0, None, None, None, None, None, None, None, None, 1, None, '1117755', 'mestre', datetime.datetime(2013, 3, 13, 14, 49, 10), 'MAURO.SILVA', datetime.datetime(2022, 10, 31, 10, 55, 6), '66', None, None, None, None, None, None, 1)\n",
      "(2, 10, 'SESI ESCOLA CUIABÁ - HML', '03.819.157/0015-37', 'SESI ESCOLA CUIABÁ - HML', None, '3648-7830', None, 'secretaria.cba@sesimt.ind.br', 'AVENIDA OATOMO CANAVARROS', '1079-A', None, 'BELA VISTA', 'Cuiabá', 'MT', 'Brasil', '78050-568', 'Alessandra Hernandez Marangoni', None, 6, 1, None, 3189, '03403', None, 0, None, None, None, None, None, None, None, None, 1, None, '1195277', 'mestre', datetime.datetime(2017, 9, 26, 9, 31, 6), 'MAURO.SILVA', datetime.datetime(2022, 10, 31, 10, 54, 43), '65', None, None, None, None, None, None, 1)\n",
      "(2, 11, 'SESI SAUDE CBA - HML', '03.819.157/0011-03', 'Segurança e Saúde Cuiabá - HML', None, '3316-6388', None, 'marcelo.lew@sesimt.ind.br', 'Major Arnaldo de Matos', '568', None, 'DUQUE DE CAXIAS', 'Cuiabá', 'MT', 'Brasil', '78043-240', 'Marcelo Lew', None, 1, 1, None, 3733, '03403', None, 0, None, None, None, None, None, None, None, None, 1, None, '1195380', 'mestre', datetime.datetime(2013, 3, 13, 14, 47, 4), 'MAURO.SILVA', datetime.datetime(2022, 10, 31, 10, 54, 58), '65', None, None, None, None, None, None, 1)\n",
      "(2, 12, 'SESI PARK - HML', '03.819.157/0012-94', 'SESI PARK - HML', None, '3648-7821', None, 'marcio.alves@sesimt.com.br', 'AVENIDA OÁTOMO CANAVARROS', '1079', None, 'BELA VISTA', 'Cuiabá', 'MT', 'Brasil', '78015-530', 'Marcio Benedito de Oliveira Alves', None, 6, 1, None, 2359, '03403', None, 0, None, None, None, None, None, None, None, None, 1, None, '1117753', 'mestre', datetime.datetime(2013, 3, 1, 10, 24, 2), 'MAURO.SILVA', datetime.datetime(2022, 10, 31, 10, 54, 54), '65', None, None, None, None, None, None, 1)\n",
      "(2, 13, 'SESICLUBE - RONDONOPOLIS - HML', '03.819.157/0013-75', 'SESICLUBE - RONDONOPOLIS - HML', None, None, None, None, None, None, None, None, 'Rondonópolis', 'MT', 'Brasil', None, None, None, None, None, None, 3734, '07602', None, 0, None, None, None, None, None, None, None, None, 1, None, None, 'mestre', datetime.datetime(2013, 3, 13, 14, 48, 41), 'MAURO.SILVA', datetime.datetime(2022, 10, 31, 10, 54, 51), None, None, None, None, None, None, None, 1)\n",
      "(2, 14, 'SESI - JUINA - HML', '03.819.157/0014-56', 'SESI - JUINA - HML', None, '3566-2273', None, 'edina.scheid@sesimt.ind.br', 'DAS VIOLETAS', '263', None, 'MODULO 04', 'Juína', 'MT', 'Brasil', '78320-000', 'EDINA CRISTINA TONETTI SCHEID', None, 1, 1, None, 3735, '05150', None, 0, None, None, None, None, None, None, None, None, 1, None, '1195404', 'mestre', datetime.datetime(2013, 3, 13, 14, 46, 43), 'MAURO.SILVA', datetime.datetime(2022, 10, 31, 10, 54, 47), '66', None, None, None, None, None, None, 1)\n",
      "(2, 15, 'CAT - RONDONOPOLIS - HML', '03.819.157/0009-99', 'CAT - RONDONOPOLIS - HML', None, '3302-0020', None, None, 'Av. Presidente Médici', '4391', None, 'Vila Birigui', 'Rondonópolis', 'MT', 'Brasil', '78705-000', None, None, 6, 18, None, 3736, '07602', None, 0, None, None, None, None, None, None, None, None, 1, None, None, 'mestre', datetime.datetime(2015, 10, 15, 15, 57, 41), 'MAURO.SILVA', datetime.datetime(2022, 10, 31, 10, 55, 2), '66', None, None, None, None, None, None, 1)\n",
      "(3, 17, 'SENAI ARIPUANÃ - HML', '03.819.150/0022-44', 'SENAI ARIPUANÃ - HML', None, '3565-1440', '98121-2226', 'odair.dias@senaimt.ind.br', '20', '464', 'CIDADE ALTA', 'CENTRO', 'Aripuanã', 'MT', 'Brasil', '78325000', 'ODAIR ROSA DIAS', None, 1, 1, None, 4605, '01407', None, 0, None, None, None, None, None, None, None, None, 1, None, '5327794', 'vitor.silva', datetime.datetime(2020, 3, 17, 17, 18, 36), 'MAURO.SILVA', datetime.datetime(2022, 10, 31, 11, 4, 45), '066', '066', 0, None, None, None, None, 1)\n"
     ]
    }
   ],
   "source": [
    "cur = conn.cursor()\n",
    "statement = 'select * from ppessoa where rownum < 11'\n",
    "with cur.execute(statement) as cursor:\n",
    "    for row in cursor.execute(\"select * from GFILIAL\"):\n",
    "        print(row)"
   ]
  },
  {
   "cell_type": "code",
   "execution_count": null,
   "id": "22b451db",
   "metadata": {},
   "outputs": [],
   "source": [
    "#Import data of google accounts"
   ]
  },
  {
   "cell_type": "code",
   "execution_count": 18,
   "id": "dd31e4c0",
   "metadata": {},
   "outputs": [],
   "source": [
    "dfEmail = pd.read_excel('C:\\\\wamp64\\\\www\\\\python\\\\dataset\\\\User_Download_16112022_150805.xlsx')"
   ]
  },
  {
   "cell_type": "code",
   "execution_count": 19,
   "id": "6a6226ad",
   "metadata": {},
   "outputs": [
    {
     "data": {
      "text/html": [
       "<div>\n",
       "<style scoped>\n",
       "    .dataframe tbody tr th:only-of-type {\n",
       "        vertical-align: middle;\n",
       "    }\n",
       "\n",
       "    .dataframe tbody tr th {\n",
       "        vertical-align: top;\n",
       "    }\n",
       "\n",
       "    .dataframe thead th {\n",
       "        text-align: right;\n",
       "    }\n",
       "</style>\n",
       "<table border=\"1\" class=\"dataframe\">\n",
       "  <thead>\n",
       "    <tr style=\"text-align: right;\">\n",
       "      <th></th>\n",
       "      <th>First Name [Required]</th>\n",
       "      <th>Last Name [Required]</th>\n",
       "      <th>Email Address [Required]</th>\n",
       "      <th>Status [READ ONLY]</th>\n",
       "      <th>Last Sign In [READ ONLY]</th>\n",
       "      <th>Email Usage [READ ONLY]</th>\n",
       "    </tr>\n",
       "  </thead>\n",
       "  <tbody>\n",
       "    <tr>\n",
       "      <th>count</th>\n",
       "      <td>68238</td>\n",
       "      <td>68234</td>\n",
       "      <td>68238</td>\n",
       "      <td>68238</td>\n",
       "      <td>68238</td>\n",
       "      <td>68238</td>\n",
       "    </tr>\n",
       "    <tr>\n",
       "      <th>unique</th>\n",
       "      <td>12740</td>\n",
       "      <td>50382</td>\n",
       "      <td>68238</td>\n",
       "      <td>2</td>\n",
       "      <td>20691</td>\n",
       "      <td>83</td>\n",
       "    </tr>\n",
       "    <tr>\n",
       "      <th>top</th>\n",
       "      <td>MARIA</td>\n",
       "      <td>DA SILVA</td>\n",
       "      <td>.silva@mt.estudante.senai.br</td>\n",
       "      <td>Active</td>\n",
       "      <td>Never logged in</td>\n",
       "      <td>0.0GB</td>\n",
       "    </tr>\n",
       "    <tr>\n",
       "      <th>freq</th>\n",
       "      <td>1449</td>\n",
       "      <td>224</td>\n",
       "      <td>1</td>\n",
       "      <td>68231</td>\n",
       "      <td>47491</td>\n",
       "      <td>62160</td>\n",
       "    </tr>\n",
       "  </tbody>\n",
       "</table>\n",
       "</div>"
      ],
      "text/plain": [
       "       First Name [Required] Last Name [Required]  \\\n",
       "count                  68238                68234   \n",
       "unique                 12740                50382   \n",
       "top                    MARIA             DA SILVA   \n",
       "freq                    1449                  224   \n",
       "\n",
       "            Email Address [Required] Status [READ ONLY]  \\\n",
       "count                          68238              68238   \n",
       "unique                         68238                  2   \n",
       "top     .silva@mt.estudante.senai.br             Active   \n",
       "freq                               1              68231   \n",
       "\n",
       "       Last Sign In [READ ONLY] Email Usage [READ ONLY]  \n",
       "count                     68238                   68238  \n",
       "unique                    20691                      83  \n",
       "top             Never logged in                   0.0GB  \n",
       "freq                      47491                   62160  "
      ]
     },
     "execution_count": 19,
     "metadata": {},
     "output_type": "execute_result"
    }
   ],
   "source": [
    "dfEmail.describe()"
   ]
  },
  {
   "cell_type": "code",
   "execution_count": null,
   "id": "fc2d112a",
   "metadata": {},
   "outputs": [],
   "source": []
  }
 ],
 "metadata": {
  "kernelspec": {
   "display_name": "Python 3 (ipykernel)",
   "language": "python",
   "name": "python3"
  },
  "language_info": {
   "codemirror_mode": {
    "name": "ipython",
    "version": 3
   },
   "file_extension": ".py",
   "mimetype": "text/x-python",
   "name": "python",
   "nbconvert_exporter": "python",
   "pygments_lexer": "ipython3",
   "version": "3.9.13"
  }
 },
 "nbformat": 4,
 "nbformat_minor": 5
}
